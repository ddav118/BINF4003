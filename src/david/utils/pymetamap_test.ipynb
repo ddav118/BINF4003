{
 "cells": [
  {
   "cell_type": "code",
   "execution_count": 1,
   "metadata": {},
   "outputs": [],
   "source": [
    "from pymetamap import MetaMap"
   ]
  },
  {
   "cell_type": "code",
   "execution_count": 14,
   "metadata": {},
   "outputs": [
    {
     "ename": "AttributeError",
     "evalue": "type object 'MetaMap' has no attribute 'version'",
     "output_type": "error",
     "traceback": [
      "\u001b[0;31m---------------------------------------------------------------------------\u001b[0m",
      "\u001b[0;31mAttributeError\u001b[0m                            Traceback (most recent call last)",
      "\u001b[1;32m/home/ddavilag/Desktop/mimic/project.ipynb Cell 2\u001b[0m line \u001b[0;36m1\n\u001b[0;32m----> <a href='vscode-notebook-cell://ssh-remote%2B137.110.180.211/home/ddavilag/Desktop/mimic/project.ipynb#W5sdnNjb2RlLXJlbW90ZQ%3D%3D?line=0'>1</a>\u001b[0m MetaMap\u001b[39m.\u001b[39;49mversion\n",
      "\u001b[0;31mAttributeError\u001b[0m: type object 'MetaMap' has no attribute 'version'"
     ]
    }
   ],
   "source": [
    "MetaMap.version"
   ]
  },
  {
   "cell_type": "code",
   "execution_count": 2,
   "metadata": {},
   "outputs": [],
   "source": [
    "mm = MetaMap.get_instance(\"/home/ddavilag/Desktop/mimic/public_mm/bin/metamap\")"
   ]
  },
  {
   "cell_type": "code",
   "execution_count": 72,
   "metadata": {},
   "outputs": [],
   "source": [
    "text = \"\"\"History of Present Illness:\n",
    "\n",
    "A ___ gentleman with known moderate COPD, history of DVT \n",
    "and PE, on anticoagulation.  He has no symptoms or signs of \n",
    "infection, anemia, recurrent PE or angina/CHF. He is at \n",
    "increased risk given the long tobacco\n",
    "history and known COPD, as well as history of DVT and PE but is \n",
    "medically cleared for surgery. EKG is obtained and is notable \n",
    "for sinus bradycardia at 58 with an axis of +50, PR interval \n",
    "0.18, QRS 0.08, QT interval 0.42.  No acute ischemic ST or \n",
    "T-wave changes appreciated.  He is medically cleared for \n",
    "surgery.  Risk slightly increased due to his COPD, but very \n",
    "manageable by Anesthesia.\n",
    "\n",
    "Brief Hospital Course:\n",
    "\n",
    "Mr. ___ was admitted to Dr. ___ service for \n",
    "placement of penile prosthesis. No concerning intraoperative \n",
    "events occurred; please see dictated operative note for details. \n",
    " Vancomycin and Gentamicin were administered for ___ \n",
    "infection prophylaxis.  The patient tolerated the procedure well \n",
    "and was recovered in the PACU before transfer to the general \n",
    "surgical floor.  The post-op course was uncomplicated although \n",
    "in the PACU he did have some post-op phallus edema. His foley \n",
    "catheter was removed immediately postoperatively and the patient \n",
    "voided without difficulty. Hemovac drain was removed on POD1. At \n",
    "discharge, patient's pain was well controlled with oral pain \n",
    "medications, tolerating regular diet, ambulating without \n",
    "assistance, and voiding without difficulty. Incision at \n",
    "discharge without erythema or hematoma.  He will follow-up with \n",
    "his urologist as directed and complete a one week course of \n",
    "antibiotics.\"\"\"\n",
    "# split based on periods and new lines\n",
    "text = text.replace(\"\\n\", \" \")\n",
    "text = text.split(\".\")\n",
    "text = [x.strip() for x in text]\n",
    "text = [x for x in text if x != \"\"]\n",
    "text\n",
    "text = \" \".join(text)\n",
    "\n",
    "# text = text.replace(\"\\n\", \" \")"
   ]
  },
  {
   "cell_type": "code",
   "execution_count": 64,
   "metadata": {},
   "outputs": [],
   "source": [
    "text = \"Name  Unit  Admission Date  Discharge Date  Date Birth  Sex  Service  UROLOGY Allergies  Known Allergies / Adverse Drug Reactions Attending  Chief Complaint  erectile dysfunction Major Surgical Invasive Procedure  Insertion inflatable penile prosthesis . History Present Illness  gentleman known moderate COPD , history DVT PE , anticoagulation . symptoms signs infection , anemia , recurrent PE angina/CHF . increased risk given long tobacco history known COPD , well history DVT PE medically cleared surgery . EKG obtained notable sinus bradycardia  axis + , PR interval . , QRS . , QT interval . . acute ischemic ST T-wave changes appreciated . medically cleared surgery . Risk slightly increased due COPD , manageable Anesthesia . Past Medical History  PAST MEDICAL HISTORY  notable history DVT PE long tobacco history , quit  weeks COPD , history colorectal cancer , prothrombin mutation , varicocele , dilatation distal aorta degenerative joint disease . also basal squamous cell carcinomas . Social History  Family History  FAMILY HISTORY  Reviewed unchanged . noted , father lung cancer . Physical Exam  WdWn male , NAD , AVSS Interactive , cooperative Abdomen soft , Nt/Nd Hemiscrotum Incision c/d/i w/out evidence hematoma infection Hemovac removed . DSD tegaderm applied . Ecchymosis penile shaft/scrotum noted without induration ; less edema yesterday . Lower extremities w/out edema pitting report calf pain Pertinent Results  AM BLOOD Brief Hospital Course  Mr. admitted Dr. service placement penile prosthesis . concerning intraoperative events occurred ; please see dictated operative note details . Vancomycin Gentamicin administered infection prophylaxis . patient tolerated procedure well recovered PACU transfer general surgical floor . post-op course uncomplicated although PACU post-op phallus edema . foley catheter removed immediately postoperatively patient voided without difficulty . Hemovac drain removed POD . discharge , patient 's pain well controlled oral pain medications , tolerating regular diet , ambulating without assistance , voiding without difficulty . Incision discharge without erythema hematoma . follow-up urologist directed complete one week course antibiotics . Medications Admission  noted OMR Discharge Medications   . Acetaminophen  mg PO QH  PRN Pain - Mild/Fever  . Docusate Sodium  mg PO BID RX * docusate sodium [ Colace ]  mg ONE capsule ( ) mouth twice day Disp # *  Capsule Refills  *   . OxyCODONE ( Immediate Release )  mg PO QH  PRN Pain - Moderate Reason PRN duplicate override  Patient NPO unable tolerate PO RX * oxycodone  mg ONE tablet ( ) mouth Qhrs Disp # *  Tablet Refills  *   . Senna . mg PO HS  . Sulfameth/Trimethoprim DS  TAB PO BID Duration   Days RX * sulfamethoxazole-trimethoprim [ Bactrim DS ]  mg- mg ONE tab-cap mouth twice day Disp # *  Tablet Refills  *   . Warfarin . mg PO DAILY RESUME home dosing INR monitoring schedule Discharge Disposition  Home Discharge Diagnosis  POSTOPERATIVE DIAGNOSIS  Erectile dysfunction . anticoagulation Discharge Condition  Mental Status  Clear coherent . Level Consciousness  Alert interactive . Activity Status  Ambulatory - Independent . Discharge Instructions  -Please also refer instructions provided manufacturer prosthesis -ALWAYS call inform , review discuss medication changes post-operative course primary care doctor . -over next several days may experience increased swelling phallus ( scrotum ) resembling semi-rigid phallus ( semi-erect ) ; `` normal '' prosthesis related surgery/edema . may accompanied discoloration ( ecchymosis ) involving phallus scrotum ; normal gradually resolve . -Please remove surgical dressing penis and/or scrotum post-operative day two  wound care needed may leave wound open air . -Please keep phallus midline , pointed toward umbilicus , taped place protective gauze/pads ( necessary ) next days . course may point downward voiding . -Use jock-supporter/strap jockey-type briefs tight , tighty-whities facilitate ; Subsequently may transition loose fitting briefs boxer-briefs support -- cotton and/or breathable . -Do use prosthesis  weeks explicitly advised urologist -Complete -day course antibiotics directed -You may shower , bathe , swim otherwise immerse incision . -Do lift anything heavier phone book sports , vigorous physical activity ( including sexual ) . -Tylenol first line pain medication , narcotic pain medication prescribed breakthough pain >  . maximum daily Tylenol/Acetaminophen dose grams sources . -Do drive drink alcohol taking narcotics operate dangerous machinery . safety , please DRIVE ONE WEEK SURGERY unless otherwise advised . -Colace prescribed avoid post-surgical constipation constipation related narcotic pain medication , discontinue loose stool diarrhea develops . Colace stool `` softener '' - laxative - RESUME medications like VIAGRA , LEVITRA CIALIS . may resume pre-admission home medications unless otherwise explicitly advised medication reconciliation -If fevers > F , vomiting , increased redness , swelling , discharge incision , call doctor go nearest emergency room . Followup Instructions \""
   ]
  },
  {
   "cell_type": "code",
   "execution_count": 73,
   "metadata": {},
   "outputs": [],
   "source": [
    "result, errors = mm.extract_concepts(\n",
    "    sentences=[text],\n",
    "    mm_data_version=\"USAbase\",\n",
    "    word_sense_disambiguation=True,\n",
    "    allow_acronym_variants=True,\n",
    "    # prefer_multiple_concepts=True,\n",
    "    # relaxed_model=True,\n",
    "    restrict_to_sts=[\"dsyn\", \"sosy\"],  # \"fndg\"\n",
    ")"
   ]
  },
  {
   "cell_type": "code",
   "execution_count": 74,
   "metadata": {},
   "outputs": [
    {
     "data": {
      "text/plain": [
       "[ConceptMMI(index='USER', mm='MMI', score='7.27', preferred_name='Chronic Obstructive Airway Disease', cui='C0024117', semtypes='[dsyn]', trigger='[\"COPD NOS\"-tx-1-\"COPD\"-noun-0]', location='TX', pos_info='[259/4],[587/4]', tree_codes=''),\n",
       " ConceptMMI(index='USER', mm='MMI', score='5.18', preferred_name='Anemia', cui='C0002871', semtypes='[dsyn]', trigger='[\"ANEMIA\"-tx-1-\"anemia\"-noun-1]', location='TX', pos_info='158/6', tree_codes=''),\n",
       " ConceptMMI(index='USER', mm='MMI', score='5.18', preferred_name='Discharge, body substance', cui='C2926602', semtypes='[sosy]', trigger='[\"Discharge\"-tx-1-\"discharge\"-noun-0]', location='TX', pos_info='1253/9', tree_codes=''),\n",
       " ConceptMMI(index='USER', mm='MMI', score='5.18', preferred_name='Symptoms', cui='C1457887', semtypes='[sosy]', trigger='[\"SYMPTOMS\"-tx-1-\"symptoms\"-noun-1]', location='TX', pos_info='125/8', tree_codes=''),\n",
       " ConceptMMI(index='USER', mm='MMI', score='3.68', preferred_name='Congestive heart failure', cui='C0018802', semtypes='[dsyn]', trigger='[\"CHF\"-tx-1-\"CHF\"-noun-0]', location='TX', pos_info='189/3', tree_codes=''),\n",
       " ConceptMMI(index='USER', mm='MMI', score='3.68', preferred_name='Pain', cui='C0030193', semtypes='[sosy]', trigger='[\"PAIN\"-tx-1-\"pain\"-noun-0]', location='TX', pos_info='1274/4', tree_codes=''),\n",
       " ConceptMMI(index='USER', mm='MMI', score='3.62', preferred_name='Difficulty passing urine', cui='C0241705', semtypes='[sosy]', trigger='[\"difficulty voiding\"-tx-1-\"voiding difficulty\"-noun-1]', location='TX', pos_info='1389/7,1405/10', tree_codes=''),\n",
       " ConceptMMI(index='USER', mm='MMI', score='3.50', preferred_name='Angina Pectoris', cui='C0002962', semtypes='[sosy]', trigger='[\"ANGINA\"-tx-1-\"angina\"-noun-1]', location='TX', pos_info='182/6', tree_codes=''),\n",
       " ConceptMMI(index='USER', mm='MMI', score='3.45', preferred_name='Communicable Diseases', cui='C0009450', semtypes='[dsyn]', trigger='[\"Infection, NOS\"-tx-1-\"infection\"-noun-1]', location='TX', pos_info='147/9', tree_codes=''),\n",
       " ConceptMMI(index='USER', mm='MMI', score='3.45', preferred_name='Pain of oral cavity structure', cui='C0578051', semtypes='[sosy]', trigger='[\"Oral pain\"-tx-1-\"oral pain\"-noun-0]', location='TX', pos_info='1304/9', tree_codes=''),\n",
       " ConceptMMI(index='USER', mm='MMI', score='3.44', preferred_name='Erythema', cui='C0041834', semtypes='[dsyn]', trigger='[\"ERYTHEMA\"-tx-1-\"erythema\"-noun-1]', location='TX', pos_info='1447/8', tree_codes=''),\n",
       " ConceptMMI(index='USER', mm='MMI', score='3.43', preferred_name='Moderate chronic obstructive pulmonary disease', cui='C0730605', semtypes='[dsyn]', trigger='[\"Moderate chronic obstructive pulmonary disease\"-tx-1-\"moderate COPD\"-noun-0]', location='TX', pos_info='57/13', tree_codes='')]"
      ]
     },
     "execution_count": 74,
     "metadata": {},
     "output_type": "execute_result"
    }
   ],
   "source": [
    "result"
   ]
  },
  {
   "cell_type": "code",
   "execution_count": 66,
   "metadata": {},
   "outputs": [
    {
     "data": {
      "text/plain": [
       "[ConceptMMI(index='USER', mm='MMI', score='18.45', preferred_name='Pain', cui='C0030193', semtypes='[sosy]', trigger='[\"PAIN\"-tx-33-\"pain\"-noun-0,\"PAIN\"-tx-20-\"Pain\"-noun-0,\"PAIN\"-tx-18-\"Pain\"-noun-0,\"PAIN\"-tx-15-\"pain\"-noun-0]', location='TX', pos_info='[4352/4],[4418/4];2494/4;2298/4;1963/4', tree_codes=''),\n",
       " ConceptMMI(index='USER', mm='MMI', score='14.92', preferred_name='Chronic Obstructive Airway Disease', cui='C0024117', semtypes='[dsyn]', trigger='[\"COPD NOS\"-tx-8-\"COPD\"-noun-0,\"COPD NOS\"-tx-7-\"COPD\"-noun-0,\"COPD NOS\"-tx-2-\"COPD\"-noun-0]', location='TX', pos_info='838/4;705/4;[306/4],[458/4]', tree_codes=''),\n",
       " ConceptMMI(index='USER', mm='MMI', score='14.55', preferred_name='Discharge, body substance', cui='C2926602', semtypes='[sosy]', trigger='[\"Discharge\"-tx-36-\"discharge\"-noun-0,\"Discharge\"-tx-16-\"discharge\"-noun-1,\"Discharge\"-tx-15-\"discharge\"-noun-0,\"Discharge\"-tx-1-\"Discharge\"-noun-0]', location='TX', pos_info='5020/9;2104/9;1940/9;29/9', tree_codes=''),\n",
       " ConceptMMI(index='USER', mm='MMI', score='10.54', preferred_name='Deep Vein Thrombosis', cui='C0149871', semtypes='[dsyn]', trigger='[\"DVT NOS\"-tx-8-\"DVT\"-noun-0,\"DVT NOS\"-tx-2-\"DVT\"-noun-0]', location='TX', pos_info='796/3;[321/3],[478/3]', tree_codes=''),\n",
       " ConceptMMI(index='USER', mm='MMI', score='7.08', preferred_name='Erythema', cui='C0041834', semtypes='[dsyn]', trigger='[\"Redness\"-tx-36-\"redness\"-noun-0,\"ERYTHEMA\"-tx-16-\"erythema\"-noun-1]', location='TX', pos_info='4999/7;2122/8', tree_codes=''),\n",
       " ConceptMMI(index='USER', mm='MMI', score='6.94', preferred_name='Erectile dysfunction', cui='C0242350', semtypes='[dsyn]', trigger='[\"Erectile Dysfunction\"-tx-23-\"Erectile dysfunction\"-noun-0,\"Erectile Dysfunction\"-tx-1-\"erectile dysfunction\"-noun-0]', location='TX', pos_info='2981/20;159/20', tree_codes=''),\n",
       " ConceptMMI(index='USER', mm='MMI', score='6.87', preferred_name='Polyradiculoneuropathy', cui='C0032587', semtypes='[dsyn]', trigger='[\"Polyradiculoneuropathy\"-tx-20-\"PRN\"-noun-0,\"Polyradiculoneuropathy\"-tx-18-\"PRN\"-noun-0]', location='TX', pos_info='2490/3;2294/3', tree_codes=''),\n",
       " ConceptMMI(index='USER', mm='MMI', score='5.18', preferred_name='Anemia', cui='C0002871', semtypes='[dsyn]', trigger='[\"ANEMIA\"-tx-2-\"anemia\"-noun-0]', location='TX', pos_info='375/6', tree_codes=''),\n",
       " ConceptMMI(index='USER', mm='MMI', score='5.18', preferred_name='Fever', cui='C0015967', semtypes='[sosy]', trigger='[\"Fevers\"-tx-36-\"fevers\"-noun-0]', location='TX', pos_info='4965/6', tree_codes=''),\n",
       " ConceptMMI(index='USER', mm='MMI', score='5.18', preferred_name='Neuroaxonal Dystrophies', cui='C0338473', semtypes='[dsyn]', trigger='[\"NAD\"-tx-10-\"NAD\"-noun-0]', location='TX', pos_info='1125/3', tree_codes=''),\n",
       " ConceptMMI(index='USER', mm='MMI', score='5.18', preferred_name='Prothrombin mutation', cui='C1610621', semtypes='[dsyn]', trigger='[\"Prothrombin mutation\"-tx-8-\"prothrombin mutation\"-noun-0]', location='TX', pos_info='873/20', tree_codes=''),\n",
       " ConceptMMI(index='USER', mm='MMI', score='5.18', preferred_name='Varicocele', cui='C0042341', semtypes='[dsyn]', trigger='[\"varicocoele\"-tx-8-\"varicocele\"-noun-0]', location='TX', pos_info='896/10', tree_codes=''),\n",
       " ConceptMMI(index='USER', mm='MMI', score='5.18', preferred_name='Vomiting', cui='C0042963', semtypes='[sosy]', trigger='[\"VOMITING\"-tx-36-\"vomiting\"-verb-0]', location='TX', pos_info='4978/8', tree_codes=''),\n",
       " ConceptMMI(index='USER', mm='MMI', score='3.68', preferred_name='Difficulty passing urine', cui='C0241705', semtypes='[sosy]', trigger='[\"difficulty voiding\"-tx-15-\"voiding difficulty\"-noun-1]', location='TX', pos_info='2066/7,2082/10', tree_codes=''),\n",
       " ConceptMMI(index='USER', mm='MMI', score='3.63', preferred_name='Diarrhea', cui='C0011991', semtypes='[sosy]', trigger='[\"DIARRHOEA\"-tx-35-\"diarrhea\"-noun-0]', location='TX', pos_info='4746/8', tree_codes=''),\n",
       " ConceptMMI(index='USER', mm='MMI', score='3.61', preferred_name='Communicable Diseases', cui='C0009450', semtypes='[dsyn]', trigger='[\"Infection, NOS\"-tx-2-\"infection\"-noun-0]', location='TX', pos_info='363/9', tree_codes=''),\n",
       " ConceptMMI(index='USER', mm='MMI', score='3.53', preferred_name='Loose stool', cui='C2129214', semtypes='[sosy]', trigger='[\"LOOSE STOOL\"-tx-35-\"loose stool\"-noun-0]', location='TX', pos_info='4734/11', tree_codes=''),\n",
       " ConceptMMI(index='USER', mm='MMI', score='3.51', preferred_name='Pain in lower limb', cui='C0023222', semtypes='[sosy]', trigger='[\"Lower extremities pain\"-tx-13-\"Lower extremities pain\"-noun-0]', location='TX', pos_info='1367/17,1417/4', tree_codes=''),\n",
       " ConceptMMI(index='USER', mm='MMI', score='3.50', preferred_name='Sex Differentiation Disorders', cui='C2930619', semtypes='[dsyn]', trigger='[\"DSD\"-tx-11-\"DSD\"-noun-0]', location='TX', pos_info='1262/3', tree_codes=''),\n",
       " ConceptMMI(index='USER', mm='MMI', score='3.50', preferred_name='Arteriovenous shunt infection', cui='C0349763', semtypes='[dsyn]', trigger='[\"Arteriovenous shunt infection\"-tx-10-\"AVSS infection\"-noun-0]', location='TX', pos_info='1131/4,1234/9', tree_codes=''),\n",
       " ConceptMMI(index='USER', mm='MMI', score='3.47', preferred_name='Degenerative polyarthritis', cui='C0029408', semtypes='[dsyn]', trigger='[\"DEGENERATIVE JOINT DISEASE\"-tx-8-\"degenerative joint disease\"-noun-0]', location='TX', pos_info='933/26', tree_codes=''),\n",
       " ConceptMMI(index='USER', mm='MMI', score='3.47', preferred_name='Muscle Rigidity', cui='C0026837', semtypes='[sosy]', trigger='[\"Rigid\"-tx-27-\"rigid\"-adj-0]', location='TX', pos_info='3441/5', tree_codes=''),\n",
       " ConceptMMI(index='USER', mm='MMI', score='3.47', preferred_name='Symptoms', cui='C1457887', semtypes='[sosy]', trigger='[\"SYMPTOMS\"-tx-2-\"symptoms\"-noun-0]', location='TX', pos_info='348/8', tree_codes=''),\n",
       " ConceptMMI(index='USER', mm='MMI', score='3.46', preferred_name='Pain in calf', cui='C0236040', semtypes='[sosy]', trigger='[\"CALF PAIN\"-tx-13-\"calf pain\"-noun-0]', location='TX', pos_info='1412/9', tree_codes=''),\n",
       " ConceptMMI(index='USER', mm='MMI', score='3.46', preferred_name='Pitting edema', cui='C0333243', semtypes='[sosy]', trigger='[\"oedema pitting\"-tx-13-\"edema pitting\"-noun-0]', location='TX', pos_info='1391/13', tree_codes=''),\n",
       " ConceptMMI(index='USER', mm='MMI', score='3.45', preferred_name='Seizures', cui='C0036572', semtypes='[sosy]', trigger='[\"Fitting\"-tx-30-\"fitting\"-adj-0]', location='TX', pos_info='4012/7', tree_codes=''),\n",
       " ConceptMMI(index='USER', mm='MMI', score='3.45', preferred_name='Constipation', cui='C0009806', semtypes='[sosy]', trigger='[\"CONSTIPATION\"-tx-35-\"constipation\"-adj-0]', location='TX', pos_info='4661/12', tree_codes=''),\n",
       " ConceptMMI(index='USER', mm='MMI', score='3.45', preferred_name='Angina Pectoris', cui='C0002962', semtypes='[sosy]', trigger='[\"ANGINA\"-tx-2-\"angina\"-noun-0]', location='TX', pos_info='397/6', tree_codes=''),\n",
       " ConceptMMI(index='USER', mm='MMI', score='3.45', preferred_name='Congestive heart failure', cui='C0018802', semtypes='[dsyn]', trigger='[\"CHF\"-tx-2-\"CHF\"-noun-0]', location='TX', pos_info='404/3', tree_codes=''),\n",
       " ConceptMMI(index='USER', mm='MMI', score='3.45', preferred_name='SHORT STATURE, ONYCHODYSPLASIA, FACIAL DYSMORPHISM, AND HYPOTRICHOSIS SYNDROME', cui='C3542022', semtypes='[dsyn]', trigger='[\"SOFT\"-tx-10-\"soft\"-adj-0]', location='TX', pos_info='1170/4', tree_codes='')]"
      ]
     },
     "execution_count": 66,
     "metadata": {},
     "output_type": "execute_result"
    }
   ],
   "source": [
    "result"
   ]
  },
  {
   "cell_type": "code",
   "execution_count": 13,
   "metadata": {},
   "outputs": [],
   "source": [
    "# include a whitespace between each concept\n",
    "with open(\"output.txt\", \"w\") as f:\n",
    "    for concept in result:\n",
    "        f.write(str(concept) + \"\\n\")"
   ]
  },
  {
   "cell_type": "code",
   "execution_count": 48,
   "metadata": {},
   "outputs": [
    {
     "data": {
      "text/plain": [
       "7338"
      ]
     },
     "execution_count": 48,
     "metadata": {},
     "output_type": "execute_result"
    }
   ],
   "source": [
    "import glob\n",
    "import os\n",
    "\n",
    "len(glob.glob(\"/home/ddavilag/Desktop/mimic/data/*.txt\"))"
   ]
  },
  {
   "cell_type": "code",
   "execution_count": 50,
   "metadata": {},
   "outputs": [],
   "source": [
    "manual_ann = glob.glob(\"/home/ddavilag/Desktop/mimic/manual_ann/*.txt\")\n",
    "os.path.basename(manual_ann[0])\n",
    "manual_ann = [os.path.basename(x) for x in manual_ann]"
   ]
  },
  {
   "cell_type": "code",
   "execution_count": 52,
   "metadata": {},
   "outputs": [
    {
     "data": {
      "text/plain": [
       "['11120163.txt',\n",
       " '13049098.txt',\n",
       " '10498472.txt',\n",
       " '12591293.txt',\n",
       " '19609275.txt',\n",
       " '19072817.txt',\n",
       " '15756536.txt',\n",
       " '19859745.txt',\n",
       " '13017238.txt',\n",
       " '13799390.txt',\n",
       " '10973076.txt',\n",
       " '14447762.txt',\n",
       " '11681072.txt']"
      ]
     },
     "execution_count": 52,
     "metadata": {},
     "output_type": "execute_result"
    }
   ],
   "source": [
    "metamap_manual_ann = []\n",
    "for file in manual_ann:\n",
    "    res = glob.glob(\"/home/ddavilag/Desktop/mimic/data/\" + file)\n",
    "    if len(res) > 0:\n",
    "        metamap_manual_ann.append(os.path.basename(file))\n",
    "metamap_manual_ann"
   ]
  },
  {
   "cell_type": "code",
   "execution_count": 62,
   "metadata": {},
   "outputs": [],
   "source": [
    "manual_ann = glob.glob(\"/home/ddavilag/Desktop/mimic/manual_ann/*.txt\")\n",
    "manual_ann = [int(os.path.basename(x).split(\".\")[0]) for x in manual_ann]\n",
    "metamap_manual_ann = []\n",
    "for file in manual_ann:\n",
    "    res = glob.glob(\"/home/ddavilag/Desktop/mimic/data/\" + str(file) + \".txt\")\n",
    "    if len(res) > 0:\n",
    "        metamap_manual_ann.append(int(file))\n",
    "diff = set(manual_ann) - set(metamap_manual_ann)"
   ]
  },
  {
   "cell_type": "code",
   "execution_count": 59,
   "metadata": {},
   "outputs": [
    {
     "data": {
      "text/plain": [
       "100"
      ]
     },
     "execution_count": 59,
     "metadata": {},
     "output_type": "execute_result"
    }
   ],
   "source": [
    "len(diff)"
   ]
  },
  {
   "cell_type": "code",
   "execution_count": 63,
   "metadata": {},
   "outputs": [
    {
     "data": {
      "text/plain": [
       "[10884840,\n",
       " 19393021,\n",
       " 13663087,\n",
       " 12234376,\n",
       " 11613640,\n",
       " 15479108,\n",
       " 12112753,\n",
       " 15336067,\n",
       " 17491555,\n",
       " 11313489,\n",
       " 12373601,\n",
       " 11120163,\n",
       " 17298509,\n",
       " 18785743,\n",
       " 14290495,\n",
       " 18314104,\n",
       " 14005535,\n",
       " 14977654,\n",
       " 10890618,\n",
       " 15941967,\n",
       " 11580863,\n",
       " 12025479,\n",
       " 13049098,\n",
       " 14502160,\n",
       " 14852775,\n",
       " 12822399,\n",
       " 17475216,\n",
       " 10997893,\n",
       " 14208211,\n",
       " 10498472,\n",
       " 18545394,\n",
       " 16172969,\n",
       " 12591293,\n",
       " 10772360,\n",
       " 16868592,\n",
       " 10524343,\n",
       " 11723739,\n",
       " 19350464,\n",
       " 19609275,\n",
       " 13391277,\n",
       " 14227282,\n",
       " 12667508,\n",
       " 19072817,\n",
       " 15756536,\n",
       " 13849164,\n",
       " 10810761,\n",
       " 12289577,\n",
       " 15230999,\n",
       " 15436958,\n",
       " 10508292,\n",
       " 16097384,\n",
       " 19859745,\n",
       " 19234499,\n",
       " 18907276,\n",
       " 12584665,\n",
       " 13017238,\n",
       " 16310463,\n",
       " 13799390,\n",
       " 13994735,\n",
       " 12454333,\n",
       " 18013644,\n",
       " 10973076,\n",
       " 14925000,\n",
       " 16276011,\n",
       " 13185447,\n",
       " 15977876,\n",
       " 11687439,\n",
       " 11865356,\n",
       " 13804492,\n",
       " 16442607,\n",
       " 18683964,\n",
       " 18917904,\n",
       " 19139380,\n",
       " 18483629,\n",
       " 12287525,\n",
       " 12847157,\n",
       " 14447762,\n",
       " 11681072,\n",
       " 16675371,\n",
       " 12789605]"
      ]
     },
     "execution_count": 63,
     "metadata": {},
     "output_type": "execute_result"
    }
   ],
   "source": [
    "metamap_manual_ann"
   ]
  }
 ],
 "metadata": {
  "kernelspec": {
   "display_name": "Pytorch",
   "language": "python",
   "name": "python3"
  },
  "language_info": {
   "codemirror_mode": {
    "name": "ipython",
    "version": 3
   },
   "file_extension": ".py",
   "mimetype": "text/x-python",
   "name": "python",
   "nbconvert_exporter": "python",
   "pygments_lexer": "ipython3",
   "version": "3.12.0"
  }
 },
 "nbformat": 4,
 "nbformat_minor": 2
}
