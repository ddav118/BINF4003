{
 "cells": [
  {
   "cell_type": "code",
   "execution_count": 2,
   "metadata": {},
   "outputs": [
    {
     "name": "stdout",
     "output_type": "stream",
     "text": [
      "Renamed: 10524343_metamap.csv to 10524343.csv\n",
      "Renamed: 19350464_metamap.csv to 19350464.csv\n",
      "Renamed: 19393021_metamap.csv to 19393021.csv\n",
      "Renamed: 10810761_metamap.csv to 10810761.csv\n",
      "Renamed: 19859745_metamap.csv to 19859745.csv\n",
      "Renamed: 19234499_metamap.csv to 19234499.csv\n",
      "Renamed: 19247572_metamap.csv to 19247572.csv\n",
      "Renamed: 19072817_metamap.csv to 19072817.csv\n",
      "Renamed: 10890618_metamap.csv to 10890618.csv\n",
      "Renamed: 10884840_metamap.csv to 10884840.csv\n",
      "Renamed: 10508292_metamap.csv to 10508292.csv\n",
      "Renamed: 19139380_metamap.csv to 19139380.csv\n",
      "Renamed: 19609275_metamap.csv to 19609275.csv\n",
      "Renamed: 11009282_metamap.csv to 11009282.csv\n",
      "Renamed: 19581826_metamap.csv to 19581826.csv\n",
      "Renamed: 19599211_metamap.csv to 19599211.csv\n",
      "Renamed: 10772360_metamap.csv to 10772360.csv\n",
      "Renamed: 10498472_metamap.csv to 10498472.csv\n",
      "Renamed: 10973076_metamap.csv to 10973076.csv\n",
      "Renamed: 10997893_metamap.csv to 10997893.csv\n"
     ]
    }
   ],
   "source": [
    "import os\n",
    "\n",
    "def rename_files(directory_path):\n",
    "    # Check if the provided path is a directory\n",
    "    if not os.path.isdir(directory_path):\n",
    "        print(f\"The path {directory_path} is not a valid directory.\")\n",
    "        return\n",
    "\n",
    "    # Loop through all files in the directory\n",
    "    for filename in os.listdir(directory_path):\n",
    "        file_path = os.path.join(directory_path, filename)\n",
    "\n",
    "        # Check if the current item is a file\n",
    "        if os.path.isfile(file_path):\n",
    "            # Split the file name and extension\n",
    "            base_name, extension = os.path.splitext(filename)\n",
    "\n",
    "            # Check if the file name ends with \"_metamap\"\n",
    "            if base_name.endswith(\"_metamap\"):\n",
    "                # Remove \"_metamap\" from the end of the file name\n",
    "                new_base_name = base_name[:-8]\n",
    "\n",
    "                # Construct the new file name with the original extension\n",
    "                new_filename = new_base_name + extension\n",
    "\n",
    "                # Construct the new file path\n",
    "                new_file_path = os.path.join(directory_path, new_filename)\n",
    "\n",
    "                # Rename the file\n",
    "                os.rename(file_path, new_file_path)\n",
    "\n",
    "                print(f'Renamed: {filename} to {new_filename}')\n",
    "\n",
    "# Replace 'your_directory_path' with the actual path of the directory you want to process\n",
    "directory_path = '/Users/chenhsiyu/Desktop/annotations/metamap'\n",
    "rename_files(directory_path)\n",
    "\n"
   ]
  }
 ],
 "metadata": {
  "kernelspec": {
   "display_name": "Python 3",
   "language": "python",
   "name": "python3"
  },
  "language_info": {
   "codemirror_mode": {
    "name": "ipython",
    "version": 3
   },
   "file_extension": ".py",
   "mimetype": "text/x-python",
   "name": "python",
   "nbconvert_exporter": "python",
   "pygments_lexer": "ipython3",
   "version": "3.12.0"
  }
 },
 "nbformat": 4,
 "nbformat_minor": 2
}
